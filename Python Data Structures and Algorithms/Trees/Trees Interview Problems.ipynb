{
 "cells": [
  {
   "cell_type": "markdown",
   "id": "3739a33c",
   "metadata": {},
   "source": [
    "# Binary Search Tree Check\n",
    "\n",
    "## Problem\n",
    "\n",
    "Given a binary tree, check whether it’s a binary search tree or not."
   ]
  },
  {
   "cell_type": "code",
   "execution_count": 1,
   "id": "69476df9",
   "metadata": {},
   "outputs": [],
   "source": [
    "def isValidBST(root, floor=float('-inf'), ceiling=float('inf')):\n",
    "        if not root:\n",
    "            return True\n",
    "        \n",
    "        if root.val <= floor or root.val >= ceiling:\n",
    "            return False\n",
    "        \n",
    "        return isValidBST(root.left, floor, root.val) and isValidBST(root.right, root.val, ceiling)"
   ]
  },
  {
   "cell_type": "markdown",
   "id": "80274893",
   "metadata": {},
   "source": [
    "# Solution from Jose"
   ]
  },
  {
   "cell_type": "code",
   "execution_count": 2,
   "id": "cc3b90a6",
   "metadata": {},
   "outputs": [],
   "source": [
    "tree_vals = []\n",
    "\n",
    "def inorder(tree):\n",
    "    if tree != None:\n",
    "        inorder(tree.getLeftChild())\n",
    "        tree_vals.append(tree.getRootVal())\n",
    "        inorder(tree.getRightChild())\n",
    "        \n",
    "def sort_check(tree_vals):\n",
    "    return tree_vals == sorted(tree_vals)\n",
    "\n",
    "# inorder(tree)\n",
    "# sort_check(tree_vals)"
   ]
  },
  {
   "cell_type": "code",
   "execution_count": null,
   "id": "1b46a667",
   "metadata": {},
   "outputs": [],
   "source": []
  },
  {
   "cell_type": "code",
   "execution_count": null,
   "id": "e73a644f",
   "metadata": {},
   "outputs": [],
   "source": []
  },
  {
   "cell_type": "code",
   "execution_count": null,
   "id": "a804faf4",
   "metadata": {},
   "outputs": [],
   "source": []
  },
  {
   "cell_type": "code",
   "execution_count": null,
   "id": "98ea018f",
   "metadata": {},
   "outputs": [],
   "source": []
  },
  {
   "cell_type": "code",
   "execution_count": null,
   "id": "78cbd863",
   "metadata": {},
   "outputs": [],
   "source": []
  },
  {
   "cell_type": "code",
   "execution_count": null,
   "id": "f24358bd",
   "metadata": {},
   "outputs": [],
   "source": []
  },
  {
   "cell_type": "markdown",
   "id": "28479375",
   "metadata": {},
   "source": [
    "# Tree Level Order Print\n",
    "\n",
    "## Problem\n",
    "\n",
    "Given a binary tree of integers, print it in level order. The output will contain space between the numbers in the same level, and new line between different levels."
   ]
  },
  {
   "cell_type": "code",
   "execution_count": 3,
   "id": "39fafe2a",
   "metadata": {},
   "outputs": [],
   "source": [
    "class Node:\n",
    "    def __init__(self, val=None):\n",
    "        self.left = None\n",
    "        self.right = None\n",
    "        self.val =  val "
   ]
  },
  {
   "cell_type": "code",
   "execution_count": 5,
   "id": "79ad344c",
   "metadata": {},
   "outputs": [],
   "source": [
    "a = Node(1)\n",
    "b = Node(2)\n",
    "c = Node(3)\n",
    "d = Node(4)\n",
    "e = Node(5)\n",
    "f = Node(6)"
   ]
  },
  {
   "cell_type": "code",
   "execution_count": 6,
   "id": "ac77c53c",
   "metadata": {},
   "outputs": [],
   "source": [
    "a.left = b \n",
    "a.right = c\n",
    "b.left = d\n",
    "c.left = e\n",
    "c.right = f"
   ]
  },
  {
   "cell_type": "code",
   "execution_count": 17,
   "id": "f922a99f",
   "metadata": {},
   "outputs": [],
   "source": [
    "import collections"
   ]
  },
  {
   "cell_type": "code",
   "execution_count": 24,
   "id": "46659ce5",
   "metadata": {},
   "outputs": [],
   "source": [
    "def levelOrderPrint(tree):\n",
    "    if not tree:\n",
    "        return\n",
    "    nodes=collections.deque([tree])\n",
    "    currentCount, nextCount = 1, 0\n",
    "    while len(nodes)!=0:\n",
    "        currentNode=nodes.popleft()\n",
    "        currentCount-=1\n",
    "        print(currentNode.val,)\n",
    "        if currentNode.left:\n",
    "            nodes.append(currentNode.left)\n",
    "            nextCount+=1\n",
    "        if currentNode.right:\n",
    "            nodes.append(currentNode.right)\n",
    "            nextCount+=1\n",
    "        if currentCount==0:\n",
    "            #finished printing current level\n",
    "            print('\\n',)\n",
    "            currentCount, nextCount = nextCount, currentCount"
   ]
  },
  {
   "cell_type": "code",
   "execution_count": 25,
   "id": "4243d150",
   "metadata": {},
   "outputs": [
    {
     "name": "stdout",
     "output_type": "stream",
     "text": [
      "1\n",
      "\n",
      "\n",
      "2\n",
      "3\n",
      "\n",
      "\n",
      "4\n",
      "5\n",
      "6\n",
      "\n",
      "\n"
     ]
    }
   ],
   "source": [
    "levelOrderPrint(a)"
   ]
  },
  {
   "cell_type": "code",
   "execution_count": null,
   "id": "9e21f7b4",
   "metadata": {},
   "outputs": [],
   "source": []
  },
  {
   "cell_type": "code",
   "execution_count": null,
   "id": "f614cd61",
   "metadata": {},
   "outputs": [],
   "source": []
  },
  {
   "cell_type": "code",
   "execution_count": null,
   "id": "9bc869fb",
   "metadata": {},
   "outputs": [],
   "source": []
  },
  {
   "cell_type": "code",
   "execution_count": null,
   "id": "eba37a3c",
   "metadata": {},
   "outputs": [],
   "source": []
  },
  {
   "cell_type": "markdown",
   "id": "0fe4df01",
   "metadata": {},
   "source": [
    "# Trim a Binary Search Tree\n",
    "\n",
    "## Problem\n",
    "\n",
    "Given the root of a binary search tree and 2 numbers min and max, trim the tree such that all the numbers in the new tree are between min and max (inclusive). The resulting tree should still be a valid binary search tree. So, if we get this tree as input:\n",
    "\n",
    "and we’re given min value as 5 and max value as 13, then the resulting binary search tree should be:\n",
    "\n",
    "We should remove all the nodes whose value is not between min and max."
   ]
  },
  {
   "cell_type": "code",
   "execution_count": 1,
   "id": "7d3b66f3",
   "metadata": {},
   "outputs": [],
   "source": [
    "def trimBST(tree,minVal,maxVal):\n",
    "    \n",
    "    if not tree:\n",
    "        return\n",
    "    \n",
    "    tree.left = trimBST(tree.left,minVal,maxVal)\n",
    "    tree.right= trimBST(tree.right,minVal,maxVal)\n",
    "    \n",
    "    if minVal <= tree.val <= maxVal:\n",
    "        return tree\n",
    "    \n",
    "    if tree.val < minVal:\n",
    "        return tree.right\n",
    "    \n",
    "    if tree.val > maxVal:\n",
    "        return tree.left"
   ]
  },
  {
   "cell_type": "code",
   "execution_count": null,
   "id": "fad0b0ea",
   "metadata": {},
   "outputs": [],
   "source": []
  },
  {
   "cell_type": "code",
   "execution_count": null,
   "id": "6f9e2d09",
   "metadata": {},
   "outputs": [],
   "source": []
  }
 ],
 "metadata": {
  "kernelspec": {
   "display_name": "Python 3 (ipykernel)",
   "language": "python",
   "name": "python3"
  },
  "language_info": {
   "codemirror_mode": {
    "name": "ipython",
    "version": 3
   },
   "file_extension": ".py",
   "mimetype": "text/x-python",
   "name": "python",
   "nbconvert_exporter": "python",
   "pygments_lexer": "ipython3",
   "version": "3.10.3"
  }
 },
 "nbformat": 4,
 "nbformat_minor": 5
}
