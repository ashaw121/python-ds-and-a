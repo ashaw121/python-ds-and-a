{
 "cells": [
  {
   "cell_type": "markdown",
   "id": "f6132c61",
   "metadata": {},
   "source": [
    "# Reverse a String\n",
    "\n",
    "## Problem\n",
    "\n",
    "This interview question requires you to reverse a string using recursion. Make sure to think of the base case here.\n",
    "\n",
    "Again, make sure you use recursion to accomplish this. Do not slice (e.g. string[::-1]) or use iteration, there must be a recursive call for the function."
   ]
  },
  {
   "cell_type": "code",
   "execution_count": 7,
   "id": "27576e2e",
   "metadata": {},
   "outputs": [],
   "source": [
    "def reverse(s):\n",
    "    \n",
    "    if len(s) <= 1:\n",
    "        return s\n",
    "    \n",
    "    return reverse(s[1:])+ s[0]"
   ]
  },
  {
   "cell_type": "code",
   "execution_count": 8,
   "id": "87f2ed71",
   "metadata": {},
   "outputs": [
    {
     "data": {
      "text/plain": [
       "'dlrow olleh'"
      ]
     },
     "execution_count": 8,
     "metadata": {},
     "output_type": "execute_result"
    }
   ],
   "source": [
    "reverse('hello world')"
   ]
  },
  {
   "cell_type": "code",
   "execution_count": 9,
   "id": "8574afed",
   "metadata": {},
   "outputs": [
    {
     "name": "stdout",
     "output_type": "stream",
     "text": [
      "PASSED ALL TEST CASES!\n"
     ]
    }
   ],
   "source": [
    "from nose.tools import assert_equal\n",
    "\n",
    "class TestReverse(object):\n",
    "    \n",
    "    def test_rev(self,solution):\n",
    "        assert_equal(solution('hello'),'olleh')\n",
    "        assert_equal(solution('hello world'),'dlrow olleh')\n",
    "        assert_equal(solution('123456789'),'987654321')\n",
    "        \n",
    "        print('PASSED ALL TEST CASES!')\n",
    "        \n",
    "# Run Tests\n",
    "test = TestReverse()\n",
    "test.test_rev(reverse)"
   ]
  },
  {
   "cell_type": "code",
   "execution_count": null,
   "id": "dc5e106f",
   "metadata": {},
   "outputs": [],
   "source": []
  },
  {
   "cell_type": "code",
   "execution_count": null,
   "id": "90a8e5a8",
   "metadata": {},
   "outputs": [],
   "source": []
  },
  {
   "cell_type": "code",
   "execution_count": null,
   "id": "9915b3b1",
   "metadata": {},
   "outputs": [],
   "source": []
  },
  {
   "cell_type": "code",
   "execution_count": null,
   "id": "0540ad76",
   "metadata": {},
   "outputs": [],
   "source": []
  },
  {
   "cell_type": "markdown",
   "id": "b19e96e7",
   "metadata": {},
   "source": [
    "# String Permutation\n",
    "\n",
    "## Problem\n",
    "\n",
    "Given a string, write a function that uses recursion to output a list of all the possible permutations of that string.\n",
    "\n",
    "For example, given s='abc' the function should return ['abc', 'acb', 'bac', 'bca', 'cab', 'cba']\n",
    "\n",
    "Note: If a character is repeated, treat each occurence as distinct, for example an input of 'xxx' would return a list with 6 \"versions\" of 'xxx'"
   ]
  },
  {
   "cell_type": "code",
   "execution_count": 10,
   "id": "d29c348c",
   "metadata": {},
   "outputs": [],
   "source": [
    "def permute(s):\n",
    "    out = []\n",
    "    \n",
    "    if len(s) == 1:\n",
    "        out=[s]\n",
    "        \n",
    "    else:\n",
    "        for i, let in enumerate(s):\n",
    "            \n",
    "            for perm in permute(s[:i] + s[i+1:]):\n",
    "                \n",
    "                out += [let + perm]\n",
    "                \n",
    "    return out"
   ]
  },
  {
   "cell_type": "code",
   "execution_count": 11,
   "id": "66daead3",
   "metadata": {},
   "outputs": [
    {
     "data": {
      "text/plain": [
       "['abc', 'acb', 'bac', 'bca', 'cab', 'cba']"
      ]
     },
     "execution_count": 11,
     "metadata": {},
     "output_type": "execute_result"
    }
   ],
   "source": [
    "permute('abc')"
   ]
  },
  {
   "cell_type": "code",
   "execution_count": 12,
   "id": "cd428d53",
   "metadata": {},
   "outputs": [
    {
     "name": "stdout",
     "output_type": "stream",
     "text": [
      "All test cases passed.\n"
     ]
    }
   ],
   "source": [
    "from nose.tools import assert_equal\n",
    "\n",
    "class TestPerm(object):\n",
    "    \n",
    "    def test(self,solution):\n",
    "        \n",
    "        assert_equal(sorted(solution('abc')),sorted(['abc', 'acb', 'bac', 'bca', 'cab', 'cba']))\n",
    "        assert_equal(sorted(solution('dog')),sorted(['dog', 'dgo', 'odg', 'ogd', 'gdo', 'god']) )\n",
    "        \n",
    "        print('All test cases passed.')\n",
    "        \n",
    "\n",
    "\n",
    "# Run Tests\n",
    "t = TestPerm()\n",
    "t.test(permute)"
   ]
  },
  {
   "cell_type": "code",
   "execution_count": null,
   "id": "864a7f40",
   "metadata": {},
   "outputs": [],
   "source": []
  },
  {
   "cell_type": "code",
   "execution_count": null,
   "id": "d182a2f1",
   "metadata": {},
   "outputs": [],
   "source": []
  },
  {
   "cell_type": "code",
   "execution_count": null,
   "id": "201d812e",
   "metadata": {},
   "outputs": [],
   "source": []
  },
  {
   "cell_type": "markdown",
   "id": "3c267939",
   "metadata": {},
   "source": [
    "# Fibonacci Sequence\n",
    "\n",
    "## Problem\n",
    "\n",
    "Implement a Fibonnaci Sequence in three different ways:\n",
    "\n",
    "Recursively\n",
    "\n",
    "Dynamically (Using Memoization to store results)\n",
    "\n",
    "Iteratively\n",
    "\n",
    "Function Output:\n",
    "Your function will accept a number n and return the nth number of the fibonacci sequence\n",
    "\n",
    "Remember that a fibonacci sequence: 0,1,1,2,3,5,8,13,21,... starts off with a base case checking to see if n = 0 or 1, then it returns 1.\n",
    "\n",
    "Else it returns fib(n-1)+fib(n+2)."
   ]
  },
  {
   "cell_type": "code",
   "execution_count": 33,
   "id": "ce15dc87",
   "metadata": {},
   "outputs": [],
   "source": [
    "# Recursively\n",
    "def fib_rec(n):\n",
    "    if n == 0:\n",
    "        return 0\n",
    "    elif n == 1 or n == 2:\n",
    "        return 1\n",
    "    else:\n",
    "        return fib_rec(n-1) + fib_rec(n-2)"
   ]
  },
  {
   "cell_type": "code",
   "execution_count": 32,
   "id": "b98b33c9",
   "metadata": {},
   "outputs": [
    {
     "data": {
      "text/plain": [
       "55"
      ]
     },
     "execution_count": 32,
     "metadata": {},
     "output_type": "execute_result"
    }
   ],
   "source": [
    "fib_rec(10)"
   ]
  },
  {
   "cell_type": "code",
   "execution_count": null,
   "id": "442f549c",
   "metadata": {},
   "outputs": [],
   "source": []
  },
  {
   "cell_type": "code",
   "execution_count": null,
   "id": "3a15f3ae",
   "metadata": {},
   "outputs": [],
   "source": []
  },
  {
   "cell_type": "code",
   "execution_count": 34,
   "id": "381c497d",
   "metadata": {},
   "outputs": [],
   "source": [
    "# Dynamically\n",
    "n = 10\n",
    "cache = [None] * (n + 1)\n",
    "\n",
    "\n",
    "def fib_dyn(n):\n",
    "    \n",
    "    if n == 0:\n",
    "        return 0\n",
    "    elif n == 1 or n == 2:\n",
    "        return 1\n",
    "    elif cache[n] is not None:\n",
    "        return cache[n]\n",
    "    else:\n",
    "        cache[n] = fib_dyn(n-1) + fib_dyn(n-2)\n",
    "        return cache[n]"
   ]
  },
  {
   "cell_type": "code",
   "execution_count": 35,
   "id": "7c36ea89",
   "metadata": {},
   "outputs": [
    {
     "data": {
      "text/plain": [
       "55"
      ]
     },
     "execution_count": 35,
     "metadata": {},
     "output_type": "execute_result"
    }
   ],
   "source": [
    "fib_dyn(10)"
   ]
  },
  {
   "cell_type": "code",
   "execution_count": 36,
   "id": "4a6a92be",
   "metadata": {},
   "outputs": [
    {
     "data": {
      "text/plain": [
       "[None, None, None, 2, 3, 5, 8, 13, 21, 34, 55]"
      ]
     },
     "execution_count": 36,
     "metadata": {},
     "output_type": "execute_result"
    }
   ],
   "source": [
    "cache"
   ]
  },
  {
   "cell_type": "code",
   "execution_count": null,
   "id": "106cdb79",
   "metadata": {},
   "outputs": [],
   "source": []
  },
  {
   "cell_type": "code",
   "execution_count": null,
   "id": "d08667c3",
   "metadata": {},
   "outputs": [],
   "source": []
  },
  {
   "cell_type": "code",
   "execution_count": null,
   "id": "d432c48d",
   "metadata": {},
   "outputs": [],
   "source": []
  },
  {
   "cell_type": "code",
   "execution_count": 39,
   "id": "4f62e41e",
   "metadata": {},
   "outputs": [],
   "source": [
    "# Iteratively\n",
    "def fib_iter(n):\n",
    "    \n",
    "    a = 0\n",
    "    b = 1\n",
    "    \n",
    "    for i in range(n):\n",
    "        \n",
    "        a, b = b, a + b"
   ]
  },
  {
   "cell_type": "code",
   "execution_count": 40,
   "id": "606cfc01",
   "metadata": {},
   "outputs": [
    {
     "data": {
      "text/plain": [
       "24"
      ]
     },
     "execution_count": 40,
     "metadata": {},
     "output_type": "execute_result"
    }
   ],
   "source": [
    "fib_iter(23)"
   ]
  },
  {
   "cell_type": "code",
   "execution_count": null,
   "id": "0b7b5f4d",
   "metadata": {},
   "outputs": [],
   "source": []
  }
 ],
 "metadata": {
  "kernelspec": {
   "display_name": "Python 3 (ipykernel)",
   "language": "python",
   "name": "python3"
  },
  "language_info": {
   "codemirror_mode": {
    "name": "ipython",
    "version": 3
   },
   "file_extension": ".py",
   "mimetype": "text/x-python",
   "name": "python",
   "nbconvert_exporter": "python",
   "pygments_lexer": "ipython3",
   "version": "3.9.7"
  }
 },
 "nbformat": 4,
 "nbformat_minor": 5
}
