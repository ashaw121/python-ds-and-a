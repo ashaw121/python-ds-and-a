{
 "cells": [
  {
   "cell_type": "markdown",
   "id": "982111a7",
   "metadata": {},
   "source": [
    "# Implement Binary Search"
   ]
  },
  {
   "cell_type": "code",
   "execution_count": 10,
   "id": "dc41f2a4",
   "metadata": {},
   "outputs": [],
   "source": [
    "def binary_search(arr,ele):\n",
    "    \n",
    "    if len(arr) == 0:\n",
    "        return False\n",
    "    \n",
    "    else:\n",
    "        mid = len(arr) // 2\n",
    "\n",
    "        if arr[mid] == ele:\n",
    "            return True\n",
    "        elif arr[mid] > ele:\n",
    "            return binary_search(arr[:mid-1],ele)\n",
    "        elif arr[mid] < ele:\n",
    "            return binary_search(arr[mid+1:],ele)"
   ]
  },
  {
   "cell_type": "code",
   "execution_count": 11,
   "id": "a49e3df6",
   "metadata": {},
   "outputs": [
    {
     "name": "stdout",
     "output_type": "stream",
     "text": [
      "True\n"
     ]
    }
   ],
   "source": [
    "arr = [1,2,3,4,5,6,7,8,9]\n",
    "ele = 8\n",
    "print(binary_search(arr,ele))"
   ]
  },
  {
   "cell_type": "code",
   "execution_count": null,
   "id": "d99c38fb",
   "metadata": {},
   "outputs": [],
   "source": []
  },
  {
   "cell_type": "code",
   "execution_count": null,
   "id": "5a0e4a30",
   "metadata": {},
   "outputs": [],
   "source": []
  },
  {
   "cell_type": "code",
   "execution_count": null,
   "id": "aa338850",
   "metadata": {},
   "outputs": [],
   "source": []
  },
  {
   "cell_type": "markdown",
   "id": "e59b79e8",
   "metadata": {},
   "source": [
    "# Implement Bubble Sort"
   ]
  },
  {
   "cell_type": "code",
   "execution_count": 12,
   "id": "45ca878d",
   "metadata": {},
   "outputs": [],
   "source": [
    "def bubble_sort(arr):\n",
    "    \n",
    "    for n in range(len(arr)-1,0,-1):\n",
    "        \n",
    "        for k in range(n):\n",
    "            \n",
    "            if arr[k] > arr[k+1]:\n",
    "                \n",
    "                temp = arr[k]\n",
    "                arr[k] = arr[k+1]\n",
    "                arr[k+1] = temp"
   ]
  },
  {
   "cell_type": "code",
   "execution_count": 14,
   "id": "25b66710",
   "metadata": {},
   "outputs": [
    {
     "data": {
      "text/plain": [
       "[1, 2, 3, 4, 5, 6, 8, 9, 32, 54, 65, 345, 654, 13421]"
      ]
     },
     "execution_count": 14,
     "metadata": {},
     "output_type": "execute_result"
    }
   ],
   "source": [
    "arr = [9,6,3,5,4,1,2,8,65,345,32,654,13421,54]\n",
    "bubble_sort(arr)\n",
    "arr"
   ]
  },
  {
   "cell_type": "code",
   "execution_count": null,
   "id": "19dd2e6f",
   "metadata": {},
   "outputs": [],
   "source": []
  },
  {
   "cell_type": "code",
   "execution_count": null,
   "id": "43c56713",
   "metadata": {},
   "outputs": [],
   "source": []
  },
  {
   "cell_type": "code",
   "execution_count": null,
   "id": "e94a833b",
   "metadata": {},
   "outputs": [],
   "source": []
  },
  {
   "cell_type": "code",
   "execution_count": null,
   "id": "dd56b86d",
   "metadata": {},
   "outputs": [],
   "source": []
  },
  {
   "cell_type": "markdown",
   "id": "1dfc75fb",
   "metadata": {},
   "source": [
    "# Implement Selection Sort"
   ]
  },
  {
   "cell_type": "code",
   "execution_count": 24,
   "id": "2bf67cd5",
   "metadata": {},
   "outputs": [],
   "source": [
    "def selection_sort(arr):\n",
    "    \n",
    "    for fillSlot in range(len(arr)-1, 0, -1):\n",
    "        positionOfMax = 0\n",
    "        \n",
    "        for location in range(1, fillSlot+1):\n",
    "            \n",
    "            if arr[location] > arr[positionOfMax]:\n",
    "                positionOfMax = location\n",
    "        \n",
    "        temp = arr[fillSlot]\n",
    "        arr[fillSlot] = arr[positionOfMax]\n",
    "        arr[positionOfMax] = temp     "
   ]
  },
  {
   "cell_type": "code",
   "execution_count": 25,
   "id": "d774951e",
   "metadata": {},
   "outputs": [
    {
     "data": {
      "text/plain": [
       "[1, 2, 3, 4, 5, 6, 8, 9, 32, 54, 65, 345, 654, 13421]"
      ]
     },
     "execution_count": 25,
     "metadata": {},
     "output_type": "execute_result"
    }
   ],
   "source": [
    "arr = [9,6,3,5,4,1,2,8,65,345,32,654,13421,54]\n",
    "selection_sort(arr)\n",
    "arr"
   ]
  },
  {
   "cell_type": "code",
   "execution_count": null,
   "id": "bbf49003",
   "metadata": {},
   "outputs": [],
   "source": []
  },
  {
   "cell_type": "code",
   "execution_count": null,
   "id": "2ca6c38c",
   "metadata": {},
   "outputs": [],
   "source": []
  },
  {
   "cell_type": "code",
   "execution_count": null,
   "id": "f33f7edf",
   "metadata": {},
   "outputs": [],
   "source": []
  },
  {
   "cell_type": "markdown",
   "id": "6464b3d0",
   "metadata": {},
   "source": [
    "# Implement Insertion Sort"
   ]
  },
  {
   "cell_type": "code",
   "execution_count": 26,
   "id": "d0b3c169",
   "metadata": {},
   "outputs": [],
   "source": [
    "def insertion_sort(arr):\n",
    "    \n",
    "    for i in range(1,len(arr)-1):\n",
    "        \n",
    "        currentvalue = arr[i]\n",
    "        position = i\n",
    "        \n",
    "        while position > 0 and arr[position-1] > currentvalue:\n",
    "            \n",
    "            arr[position] = arr[position-1]\n",
    "            position = position-1\n",
    "        \n",
    "        arr[position] = currentvalue"
   ]
  },
  {
   "cell_type": "code",
   "execution_count": 27,
   "id": "30cab32b",
   "metadata": {},
   "outputs": [
    {
     "data": {
      "text/plain": [
       "[1, 2, 3, 4, 5, 6, 8, 9, 32, 65, 345, 654, 13421, 54]"
      ]
     },
     "execution_count": 27,
     "metadata": {},
     "output_type": "execute_result"
    }
   ],
   "source": [
    "arr = [9,6,3,5,4,1,2,8,65,345,32,654,13421,54]\n",
    "insertion_sort(arr)\n",
    "arr"
   ]
  },
  {
   "cell_type": "code",
   "execution_count": null,
   "id": "8b1e9646",
   "metadata": {},
   "outputs": [],
   "source": []
  },
  {
   "cell_type": "code",
   "execution_count": null,
   "id": "557706ec",
   "metadata": {},
   "outputs": [],
   "source": []
  },
  {
   "cell_type": "code",
   "execution_count": null,
   "id": "11caca80",
   "metadata": {},
   "outputs": [],
   "source": []
  },
  {
   "cell_type": "code",
   "execution_count": null,
   "id": "4a04c932",
   "metadata": {},
   "outputs": [],
   "source": []
  },
  {
   "cell_type": "markdown",
   "id": "61886e94",
   "metadata": {},
   "source": [
    "# Implement Shell Sort"
   ]
  },
  {
   "cell_type": "code",
   "execution_count": 44,
   "id": "57b99168",
   "metadata": {},
   "outputs": [],
   "source": [
    "def shell_sort(arr):\n",
    "    \n",
    "    sublistcount = len(arr)//2\n",
    "    \n",
    "    while sublistcount > 0:\n",
    "        for start in range(sublistcount):\n",
    "            \n",
    "            gap_insertion_sort(arr,start,sublistcount)\n",
    "        \n",
    "        sublistcount = sublistcount//2\n",
    "\n",
    "def gap_insertion_sort(arr,start,gap):\n",
    "    \n",
    "    for i in range(start+gap,len(arr),gap):\n",
    "        \n",
    "        currentvalue = arr[i]\n",
    "        position = i\n",
    "        \n",
    "        while position >= gap and arr[position-gap] > currentvalue:\n",
    "            \n",
    "            \n",
    "            arr[position] = arr[position-gap]\n",
    "            position = position - gap\n",
    "            \n",
    "            \n",
    "        arr[position] = currentvalue"
   ]
  },
  {
   "cell_type": "code",
   "execution_count": 45,
   "id": "c90a4045",
   "metadata": {},
   "outputs": [
    {
     "data": {
      "text/plain": [
       "[1, 2, 3, 4, 5, 6, 8, 9, 32, 54, 65, 345, 654, 13421]"
      ]
     },
     "execution_count": 45,
     "metadata": {},
     "output_type": "execute_result"
    }
   ],
   "source": [
    "arr = [9,6,3,5,4,1,2,8,65,345,32,654,13421,54]\n",
    "shell_sort(arr)\n",
    "arr"
   ]
  },
  {
   "cell_type": "code",
   "execution_count": null,
   "id": "82c12af1",
   "metadata": {},
   "outputs": [],
   "source": []
  },
  {
   "cell_type": "code",
   "execution_count": null,
   "id": "8242fc9e",
   "metadata": {},
   "outputs": [],
   "source": []
  },
  {
   "cell_type": "code",
   "execution_count": null,
   "id": "5018de8f",
   "metadata": {},
   "outputs": [],
   "source": []
  },
  {
   "cell_type": "markdown",
   "id": "fbfa3236",
   "metadata": {},
   "source": [
    "# Implement Merge Sort"
   ]
  },
  {
   "cell_type": "code",
   "execution_count": 46,
   "id": "f3ae6ca0",
   "metadata": {},
   "outputs": [],
   "source": [
    "def merge_sort(arr):\n",
    "    \n",
    "    if len(arr)>1:\n",
    "        mid = len(arr)//2\n",
    "        lefthalf = arr[:mid]\n",
    "        righthalf = arr[mid:]\n",
    "        \n",
    "        merge_sort(lefthalf)\n",
    "        merge_sort(righthalf)\n",
    "        \n",
    "        i=0\n",
    "        j=0\n",
    "        k=0\n",
    "        \n",
    "        while i < len(lefthalf) and j < len(righthalf):\n",
    "    \n",
    "            if lefthalf[i] < righthalf[j]:            \n",
    "                arr[k] = lefthalf[i]\n",
    "                i+=1\n",
    "                \n",
    "            else:\n",
    "                arr[k] = righthalf[j]\n",
    "                j+=1\n",
    "            \n",
    "            k+=1\n",
    "            \n",
    "        while i < len(lefthalf):\n",
    "            arr[k] = lefthalf[i]\n",
    "            i+=1\n",
    "            k+=1\n",
    "        \n",
    "        while j < len(righthalf):\n",
    "            arr[k] = righthalf[j]\n",
    "            j+=1\n",
    "            k+=1"
   ]
  },
  {
   "cell_type": "code",
   "execution_count": 47,
   "id": "6bdb9f7e",
   "metadata": {},
   "outputs": [
    {
     "data": {
      "text/plain": [
       "[1, 2, 3, 4, 5, 6, 8, 9, 32, 54, 65, 345, 654, 13421]"
      ]
     },
     "execution_count": 47,
     "metadata": {},
     "output_type": "execute_result"
    }
   ],
   "source": [
    "arr = [9,6,3,5,4,1,2,8,65,345,32,654,13421,54]\n",
    "merge_sort(arr)\n",
    "arr"
   ]
  },
  {
   "cell_type": "code",
   "execution_count": null,
   "id": "72452652",
   "metadata": {},
   "outputs": [],
   "source": []
  },
  {
   "cell_type": "code",
   "execution_count": null,
   "id": "66f1b4cf",
   "metadata": {},
   "outputs": [],
   "source": []
  },
  {
   "cell_type": "code",
   "execution_count": null,
   "id": "f1b2935b",
   "metadata": {},
   "outputs": [],
   "source": []
  },
  {
   "cell_type": "code",
   "execution_count": null,
   "id": "b86cdd8d",
   "metadata": {},
   "outputs": [],
   "source": []
  },
  {
   "cell_type": "code",
   "execution_count": null,
   "id": "95acf0ec",
   "metadata": {},
   "outputs": [],
   "source": []
  },
  {
   "cell_type": "markdown",
   "id": "b0775a30",
   "metadata": {},
   "source": [
    "# Implement Quick Sort"
   ]
  },
  {
   "cell_type": "code",
   "execution_count": 49,
   "id": "f7f71065",
   "metadata": {},
   "outputs": [],
   "source": [
    "def quick_sort(arr):\n",
    "    quick_sort_help(arr,0,len(arr)-1)\n",
    "\n",
    "def quick_sort_help(arr,first,last):\n",
    "    \n",
    "    if first < last:\n",
    "        \n",
    "        splitpoint = partition(arr,first,last)\n",
    "        \n",
    "        quick_sort_help(arr,first,splitpoint-1)\n",
    "        quick_sort_help(arr,splitpoint+1,last)\n",
    "\n",
    "def partition(arr,first,last):\n",
    "    \n",
    "    pivotvalue = arr[first]\n",
    "    \n",
    "    leftmark = first+1\n",
    "    rightmark = last\n",
    "    \n",
    "    done = False\n",
    "    \n",
    "    while not done:\n",
    "        \n",
    "        while leftmark <= rightmark and arr[leftmark] <= pivotvalue:\n",
    "            leftmark+=1\n",
    "        \n",
    "        while arr[rightmark] >= pivotvalue and rightmark >= leftmark:\n",
    "            rightmark-=1\n",
    "            \n",
    "        if rightmark < leftmark:\n",
    "            done = True\n",
    "        else:\n",
    "            temp = arr[leftmark]\n",
    "            arr[leftmark] = arr[rightmark]\n",
    "            arr[rightmark] = temp\n",
    "            \n",
    "    temp = arr[first]\n",
    "    arr[first] = arr[rightmark]\n",
    "    arr[rightmark] = temp\n",
    "        \n",
    "    \n",
    "    return rightmark"
   ]
  },
  {
   "cell_type": "code",
   "execution_count": 50,
   "id": "f88309b1",
   "metadata": {},
   "outputs": [
    {
     "data": {
      "text/plain": [
       "[1, 2, 3, 4, 5, 6, 8, 9, 32, 54, 65, 345, 654, 13421]"
      ]
     },
     "execution_count": 50,
     "metadata": {},
     "output_type": "execute_result"
    }
   ],
   "source": [
    "arr = [9,6,3,5,4,1,2,8,65,345,32,654,13421,54]\n",
    "merge_sort(arr)\n",
    "arr"
   ]
  },
  {
   "cell_type": "code",
   "execution_count": null,
   "id": "ebc6eecb",
   "metadata": {},
   "outputs": [],
   "source": []
  }
 ],
 "metadata": {
  "kernelspec": {
   "display_name": "Python 3 (ipykernel)",
   "language": "python",
   "name": "python3"
  },
  "language_info": {
   "codemirror_mode": {
    "name": "ipython",
    "version": 3
   },
   "file_extension": ".py",
   "mimetype": "text/x-python",
   "name": "python",
   "nbconvert_exporter": "python",
   "pygments_lexer": "ipython3",
   "version": "3.10.3"
  }
 },
 "nbformat": 4,
 "nbformat_minor": 5
}
