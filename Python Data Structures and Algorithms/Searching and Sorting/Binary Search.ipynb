{
 "cells": [
  {
   "cell_type": "code",
   "execution_count": 4,
   "id": "c8af7051",
   "metadata": {},
   "outputs": [],
   "source": [
    "# List must be sorted\n",
    "def binary_search(arr,ele):\n",
    "    first = 0\n",
    "    last = len(arr) - 1\n",
    "    \n",
    "    found = False\n",
    "    while first <= last and not found:\n",
    "        \n",
    "        mid = (first + last) // 2\n",
    "        \n",
    "        if arr[mid] == ele:\n",
    "            found = True\n",
    "        else:\n",
    "            if ele < arr[mid]:\n",
    "                last = mid - 1\n",
    "            elif ele > arr[mid]:\n",
    "                first = mid + 1\n",
    "    \n",
    "    return found"
   ]
  },
  {
   "cell_type": "code",
   "execution_count": 5,
   "id": "077c2819",
   "metadata": {},
   "outputs": [
    {
     "data": {
      "text/plain": [
       "False"
      ]
     },
     "execution_count": 5,
     "metadata": {},
     "output_type": "execute_result"
    }
   ],
   "source": [
    "binary_search([1,2,4,5],3)"
   ]
  },
  {
   "cell_type": "code",
   "execution_count": 6,
   "id": "8219b166",
   "metadata": {},
   "outputs": [
    {
     "data": {
      "text/plain": [
       "True"
      ]
     },
     "execution_count": 6,
     "metadata": {},
     "output_type": "execute_result"
    }
   ],
   "source": [
    "binary_search([1,2,4,5],2)"
   ]
  },
  {
   "cell_type": "code",
   "execution_count": null,
   "id": "ada023b0",
   "metadata": {},
   "outputs": [],
   "source": []
  },
  {
   "cell_type": "code",
   "execution_count": null,
   "id": "7187bb67",
   "metadata": {},
   "outputs": [],
   "source": []
  },
  {
   "cell_type": "code",
   "execution_count": 7,
   "id": "b9e183b5",
   "metadata": {},
   "outputs": [],
   "source": [
    "# List must be sorted\n",
    "def rec_binary_search(arr,ele):\n",
    "    \n",
    "    if len(arr) == 0:\n",
    "        return False\n",
    "    \n",
    "    else:\n",
    "        \n",
    "        mid = len(arr) // 2\n",
    "        \n",
    "        if arr[mid] == ele:\n",
    "            return True\n",
    "        \n",
    "        else:\n",
    "            \n",
    "            if ele < arr[mid]:\n",
    "                return rec_binary_search(arr[:mid],ele)\n",
    "            else:\n",
    "                return rec_binary_search(arr[mid+1:],ele)"
   ]
  },
  {
   "cell_type": "code",
   "execution_count": 8,
   "id": "899a82e4",
   "metadata": {},
   "outputs": [
    {
     "data": {
      "text/plain": [
       "False"
      ]
     },
     "execution_count": 8,
     "metadata": {},
     "output_type": "execute_result"
    }
   ],
   "source": [
    "rec_binary_search([1,2,4,5],3)"
   ]
  },
  {
   "cell_type": "code",
   "execution_count": 9,
   "id": "6d88e286",
   "metadata": {},
   "outputs": [
    {
     "data": {
      "text/plain": [
       "True"
      ]
     },
     "execution_count": 9,
     "metadata": {},
     "output_type": "execute_result"
    }
   ],
   "source": [
    "rec_binary_search([1,2,4,5],2)"
   ]
  },
  {
   "cell_type": "code",
   "execution_count": null,
   "id": "8a3fbfd6",
   "metadata": {},
   "outputs": [],
   "source": [
    " "
   ]
  }
 ],
 "metadata": {
  "kernelspec": {
   "display_name": "Python 3 (ipykernel)",
   "language": "python",
   "name": "python3"
  },
  "language_info": {
   "codemirror_mode": {
    "name": "ipython",
    "version": 3
   },
   "file_extension": ".py",
   "mimetype": "text/x-python",
   "name": "python",
   "nbconvert_exporter": "python",
   "pygments_lexer": "ipython3",
   "version": "3.10.3"
  }
 },
 "nbformat": 4,
 "nbformat_minor": 5
}
