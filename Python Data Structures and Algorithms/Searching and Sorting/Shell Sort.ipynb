{
 "cells": [
  {
   "cell_type": "code",
   "execution_count": 5,
   "id": "5748697c",
   "metadata": {},
   "outputs": [],
   "source": [
    "def shell_sort(arr):\n",
    "    sublistCount = len(arr) // 2\n",
    "    \n",
    "    while sublistCount > 0:\n",
    "        for start in range(sublistCount):\n",
    "            \n",
    "            gap_insertion_sort(arr,start,sublistCount)\n",
    "            \n",
    "        sublistCount = sublistCount // 2\n",
    "        \n",
    "def gap_insertion_sort(arr,start,gap):\n",
    "    \n",
    "    for i in range(start+gap,len(arr),gap):\n",
    "        \n",
    "        currentValue = arr[i]\n",
    "        position = i\n",
    "        \n",
    "        while position >= gap and arr[position-gap] > currentValue:\n",
    "            \n",
    "            arr[position] = arr[position-gap]\n",
    "            position = position - gap\n",
    "            \n",
    "        arr[position] = currentValue"
   ]
  },
  {
   "cell_type": "code",
   "execution_count": 6,
   "id": "0cb92483",
   "metadata": {},
   "outputs": [
    {
     "data": {
      "text/plain": [
       "[1, 23, 35, 66, 89, 234, 664, 734, 6754]"
      ]
     },
     "execution_count": 6,
     "metadata": {},
     "output_type": "execute_result"
    }
   ],
   "source": [
    "arr = [35,66,734,89,234,664,6754,23,1]\n",
    "shell_sort(arr)\n",
    "arr"
   ]
  },
  {
   "cell_type": "code",
   "execution_count": null,
   "id": "fc3aad3f",
   "metadata": {},
   "outputs": [],
   "source": []
  },
  {
   "cell_type": "code",
   "execution_count": null,
   "id": "7a0774c1",
   "metadata": {},
   "outputs": [],
   "source": []
  }
 ],
 "metadata": {
  "kernelspec": {
   "display_name": "Python 3 (ipykernel)",
   "language": "python",
   "name": "python3"
  },
  "language_info": {
   "codemirror_mode": {
    "name": "ipython",
    "version": 3
   },
   "file_extension": ".py",
   "mimetype": "text/x-python",
   "name": "python",
   "nbconvert_exporter": "python",
   "pygments_lexer": "ipython3",
   "version": "3.10.3"
  }
 },
 "nbformat": 4,
 "nbformat_minor": 5
}
