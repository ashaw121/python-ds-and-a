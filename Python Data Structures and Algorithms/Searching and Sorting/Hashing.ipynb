{
 "cells": [
  {
   "cell_type": "code",
   "execution_count": 7,
   "id": "c624ebb2",
   "metadata": {},
   "outputs": [],
   "source": [
    "class hashTable(object):\n",
    "    \n",
    "    def __init__(self,size):\n",
    "        \n",
    "        self.size = size \n",
    "        self.slots = [None] * self.size\n",
    "        self.data = [None] * self.size\n",
    "        \n",
    "    def put(self,key,data):\n",
    "        \n",
    "        hashValue = self.hashfunction(key,len(self.slots))\n",
    "        \n",
    "        if self.slots[hashValue] == None:\n",
    "            self.slots[hashValue] = key\n",
    "            self.data[hashValue] = data\n",
    "        \n",
    "        else:\n",
    "            \n",
    "            if self.slots[hashValue] == key:\n",
    "                self.data[hashValue] = data\n",
    "            \n",
    "            else:\n",
    "                nextslot = self.rehash(hashValue,len(self.slots))\n",
    "                \n",
    "                while self.slots[nextslot] != None and self.slots[nextslot] != key:\n",
    "                    nextslot = self.rehash(nextslot,len(self.slots))\n",
    "                    \n",
    "                if self.slots[nextslot] == None:\n",
    "                    self.slots[nextslot] = key\n",
    "                    self.data[nextslot] = data\n",
    "                \n",
    "                else:\n",
    "                    self.data[nextslot] = data\n",
    "    \n",
    "    def hashfunction(self,key,size):\n",
    "        return key % size\n",
    "    \n",
    "    def rehash(self,oldhash,size):\n",
    "        return (oldhash + 1) % size\n",
    "    \n",
    "    def get(self,key):\n",
    "        \n",
    "        startslot = self.hashfunction(key,len(self.slots))\n",
    "        data = None\n",
    "        stop = False\n",
    "        found = False\n",
    "        position = startslot\n",
    "        \n",
    "        while self.slots[position] != None and not found and not stop:\n",
    "            \n",
    "            if self.slots[position] == key:\n",
    "                found = True\n",
    "                data = self.data[position]\n",
    "            \n",
    "            else:\n",
    "                position = self.rehash(position, len(self.slots))\n",
    "                if position == startSlot:\n",
    "                    stop = True\n",
    "        \n",
    "        return data\n",
    "    \n",
    "    def __getitem__(self,key):\n",
    "        return self.get(key)\n",
    "    \n",
    "    def __setitem__(self,key,data):\n",
    "        self.put(key,data)"
   ]
  },
  {
   "cell_type": "code",
   "execution_count": 22,
   "id": "65ee28a8",
   "metadata": {},
   "outputs": [],
   "source": [
    "h = hashTable(5)"
   ]
  },
  {
   "cell_type": "code",
   "execution_count": 23,
   "id": "36e08b46",
   "metadata": {},
   "outputs": [],
   "source": [
    "h[1] = 'one'\n",
    "h[2] = 'two'\n",
    "h[3] = 'three'"
   ]
  },
  {
   "cell_type": "code",
   "execution_count": 24,
   "id": "b6c3cda1",
   "metadata": {},
   "outputs": [
    {
     "data": {
      "text/plain": [
       "'one'"
      ]
     },
     "execution_count": 24,
     "metadata": {},
     "output_type": "execute_result"
    }
   ],
   "source": [
    "h[1]"
   ]
  },
  {
   "cell_type": "code",
   "execution_count": 25,
   "id": "b6f1cf0d",
   "metadata": {},
   "outputs": [
    {
     "data": {
      "text/plain": [
       "'one'"
      ]
     },
     "execution_count": 25,
     "metadata": {},
     "output_type": "execute_result"
    }
   ],
   "source": [
    "h.get(1)"
   ]
  },
  {
   "cell_type": "code",
   "execution_count": 26,
   "id": "2deda345",
   "metadata": {},
   "outputs": [
    {
     "data": {
      "text/plain": [
       "[None, 'one', 'two', 'three', None]"
      ]
     },
     "execution_count": 26,
     "metadata": {},
     "output_type": "execute_result"
    }
   ],
   "source": [
    "h.data"
   ]
  },
  {
   "cell_type": "code",
   "execution_count": 27,
   "id": "8d50e989",
   "metadata": {},
   "outputs": [
    {
     "data": {
      "text/plain": [
       "[None, 1, 2, 3, None]"
      ]
     },
     "execution_count": 27,
     "metadata": {},
     "output_type": "execute_result"
    }
   ],
   "source": [
    "h.slots"
   ]
  },
  {
   "cell_type": "code",
   "execution_count": null,
   "id": "41621bb3",
   "metadata": {},
   "outputs": [],
   "source": []
  }
 ],
 "metadata": {
  "kernelspec": {
   "display_name": "Python 3 (ipykernel)",
   "language": "python",
   "name": "python3"
  },
  "language_info": {
   "codemirror_mode": {
    "name": "ipython",
    "version": 3
   },
   "file_extension": ".py",
   "mimetype": "text/x-python",
   "name": "python",
   "nbconvert_exporter": "python",
   "pygments_lexer": "ipython3",
   "version": "3.10.3"
  }
 },
 "nbformat": 4,
 "nbformat_minor": 5
}
