{
 "cells": [
  {
   "cell_type": "code",
   "execution_count": 2,
   "id": "d21a5cdd",
   "metadata": {},
   "outputs": [],
   "source": [
    "def sum1(n):\n",
    "    final_sum = 0\n",
    "    \n",
    "    for x in range(n+1):\n",
    "        final_sum += x\n",
    "    \n",
    "    return final_sum"
   ]
  },
  {
   "cell_type": "code",
   "execution_count": 3,
   "id": "2827766d",
   "metadata": {},
   "outputs": [
    {
     "data": {
      "text/plain": [
       "55"
      ]
     },
     "execution_count": 3,
     "metadata": {},
     "output_type": "execute_result"
    }
   ],
   "source": [
    "sum1(10)"
   ]
  },
  {
   "cell_type": "code",
   "execution_count": 6,
   "id": "f58355dd",
   "metadata": {},
   "outputs": [],
   "source": [
    "def sum2(n):\n",
    "    return (n*(n+1))/2"
   ]
  },
  {
   "cell_type": "code",
   "execution_count": 7,
   "id": "419fcb8c",
   "metadata": {},
   "outputs": [
    {
     "data": {
      "text/plain": [
       "55.0"
      ]
     },
     "execution_count": 7,
     "metadata": {},
     "output_type": "execute_result"
    }
   ],
   "source": [
    "sum2(10)"
   ]
  },
  {
   "cell_type": "code",
   "execution_count": 8,
   "id": "28a392e0",
   "metadata": {},
   "outputs": [
    {
     "name": "stdout",
     "output_type": "stream",
     "text": [
      "18.8 µs ± 5.35 µs per loop (mean ± std. dev. of 7 runs, 10000 loops each)\n"
     ]
    }
   ],
   "source": [
    "%timeit sum1(100)"
   ]
  },
  {
   "cell_type": "code",
   "execution_count": 9,
   "id": "a1b0e3d1",
   "metadata": {},
   "outputs": [
    {
     "name": "stdout",
     "output_type": "stream",
     "text": [
      "434 ns ± 82.3 ns per loop (mean ± std. dev. of 7 runs, 1000000 loops each)\n"
     ]
    }
   ],
   "source": [
    "%timeit sum2(100)"
   ]
  },
  {
   "cell_type": "markdown",
   "id": "fa6accd3",
   "metadata": {},
   "source": [
    "## Timing varies depending on hardware, thus we use Big O Notation"
   ]
  },
  {
   "cell_type": "code",
   "execution_count": null,
   "id": "5c8d0c5d",
   "metadata": {},
   "outputs": [],
   "source": []
  }
 ],
 "metadata": {
  "kernelspec": {
   "display_name": "Python 3 (ipykernel)",
   "language": "python",
   "name": "python3"
  },
  "language_info": {
   "codemirror_mode": {
    "name": "ipython",
    "version": 3
   },
   "file_extension": ".py",
   "mimetype": "text/x-python",
   "name": "python",
   "nbconvert_exporter": "python",
   "pygments_lexer": "ipython3",
   "version": "3.9.7"
  }
 },
 "nbformat": 4,
 "nbformat_minor": 5
}
