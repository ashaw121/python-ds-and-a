{
 "cells": [
  {
   "cell_type": "code",
   "execution_count": 3,
   "id": "6b0f2816",
   "metadata": {},
   "outputs": [
    {
     "name": "stdout",
     "output_type": "stream",
     "text": [
      "Length:   0; Size in bytes:   56 \n",
      "Length:   1; Size in bytes:   88 \n",
      "Length:   2; Size in bytes:   88 \n",
      "Length:   3; Size in bytes:   88 \n",
      "Length:   4; Size in bytes:   88 \n",
      "Length:   5; Size in bytes:  120 \n",
      "Length:   6; Size in bytes:  120 \n",
      "Length:   7; Size in bytes:  120 \n",
      "Length:   8; Size in bytes:  120 \n",
      "Length:   9; Size in bytes:  184 \n",
      "Length:  10; Size in bytes:  184 \n",
      "Length:  11; Size in bytes:  184 \n",
      "Length:  12; Size in bytes:  184 \n",
      "Length:  13; Size in bytes:  184 \n",
      "Length:  14; Size in bytes:  184 \n",
      "Length:  15; Size in bytes:  184 \n",
      "Length:  16; Size in bytes:  184 \n",
      "Length:  17; Size in bytes:  248 \n",
      "Length:  18; Size in bytes:  248 \n",
      "Length:  19; Size in bytes:  248 \n",
      "Length:  20; Size in bytes:  248 \n",
      "Length:  21; Size in bytes:  248 \n",
      "Length:  22; Size in bytes:  248 \n",
      "Length:  23; Size in bytes:  248 \n",
      "Length:  24; Size in bytes:  248 \n",
      "Length:  25; Size in bytes:  312 \n",
      "Length:  26; Size in bytes:  312 \n",
      "Length:  27; Size in bytes:  312 \n",
      "Length:  28; Size in bytes:  312 \n",
      "Length:  29; Size in bytes:  312 \n",
      "Length:  30; Size in bytes:  312 \n",
      "Length:  31; Size in bytes:  312 \n",
      "Length:  32; Size in bytes:  312 \n",
      "Length:  33; Size in bytes:  376 \n",
      "Length:  34; Size in bytes:  376 \n",
      "Length:  35; Size in bytes:  376 \n",
      "Length:  36; Size in bytes:  376 \n",
      "Length:  37; Size in bytes:  376 \n",
      "Length:  38; Size in bytes:  376 \n",
      "Length:  39; Size in bytes:  376 \n",
      "Length:  40; Size in bytes:  376 \n",
      "Length:  41; Size in bytes:  472 \n",
      "Length:  42; Size in bytes:  472 \n",
      "Length:  43; Size in bytes:  472 \n",
      "Length:  44; Size in bytes:  472 \n",
      "Length:  45; Size in bytes:  472 \n",
      "Length:  46; Size in bytes:  472 \n",
      "Length:  47; Size in bytes:  472 \n",
      "Length:  48; Size in bytes:  472 \n",
      "Length:  49; Size in bytes:  472 \n"
     ]
    }
   ],
   "source": [
    "import sys\n",
    "\n",
    "# set n\n",
    "n = 50\n",
    "\n",
    "data = []\n",
    "\n",
    "for i in range(n):\n",
    "    \n",
    "    # Number of elements\n",
    "    a = len(data)\n",
    "    \n",
    "    # Actual size in bytes\n",
    "    b = sys.getsizeof(data)\n",
    "    \n",
    "    print('Length: {0:3d}; Size in bytes: {1:4d} '.format(a, b))\n",
    "    \n",
    "    # increase Length by one\n",
    "    data.append(n)"
   ]
  },
  {
   "cell_type": "markdown",
   "id": "cb065bf2",
   "metadata": {},
   "source": [
    "## Dynamic Array Implementation"
   ]
  },
  {
   "cell_type": "code",
   "execution_count": 1,
   "id": "e379deb4",
   "metadata": {},
   "outputs": [],
   "source": [
    "import ctypes"
   ]
  },
  {
   "cell_type": "code",
   "execution_count": 2,
   "id": "2600e8c6",
   "metadata": {},
   "outputs": [],
   "source": [
    "class DynamicArray(object):\n",
    "    \n",
    "    def __init__(self):\n",
    "        self.n = 0\n",
    "        self.capacity = 1\n",
    "        self.A = self.make_array(self.capacity)\n",
    "        \n",
    "    def __len__(self):\n",
    "        return self.n\n",
    "    \n",
    "    def __getitem__(self,k):\n",
    "        \n",
    "        if not 0 <= k < self.n:\n",
    "            return IndexError('k is out of bounds')\n",
    "        \n",
    "        return self.A[k]\n",
    "    \n",
    "    def append(self,ele):\n",
    "        \n",
    "        if self.n == self.capacity:\n",
    "            self._resize(2*self.capacity) # 2x if capacity is too small\n",
    "            \n",
    "        self.A[self.n] = ele\n",
    "        self.n += 1\n",
    "        \n",
    "    def _resize(self,new_cap):\n",
    "        \n",
    "        B = self.make_array(new_cap)\n",
    "        \n",
    "        for k in range(self.n):\n",
    "            B[k] = self.A[k]\n",
    "            \n",
    "        self.A = B\n",
    "        self.capacity = new_cap\n",
    "        \n",
    "    def make_array(self,new_cap):\n",
    "        \n",
    "        return (new_cap * ctypes.py_object)()"
   ]
  },
  {
   "cell_type": "code",
   "execution_count": 3,
   "id": "1f3c6bfa",
   "metadata": {},
   "outputs": [],
   "source": [
    "arr = DynamicArray()"
   ]
  },
  {
   "cell_type": "code",
   "execution_count": 4,
   "id": "264e6a16",
   "metadata": {},
   "outputs": [],
   "source": [
    "arr.append(1)"
   ]
  },
  {
   "cell_type": "code",
   "execution_count": 5,
   "id": "19b6da43",
   "metadata": {},
   "outputs": [
    {
     "data": {
      "text/plain": [
       "1"
      ]
     },
     "execution_count": 5,
     "metadata": {},
     "output_type": "execute_result"
    }
   ],
   "source": [
    "len(arr)"
   ]
  },
  {
   "cell_type": "code",
   "execution_count": 6,
   "id": "3560123b",
   "metadata": {},
   "outputs": [],
   "source": [
    "arr.append(2)"
   ]
  },
  {
   "cell_type": "code",
   "execution_count": 7,
   "id": "1707e35c",
   "metadata": {},
   "outputs": [
    {
     "data": {
      "text/plain": [
       "2"
      ]
     },
     "execution_count": 7,
     "metadata": {},
     "output_type": "execute_result"
    }
   ],
   "source": [
    "len(arr)"
   ]
  },
  {
   "cell_type": "code",
   "execution_count": 8,
   "id": "602fbf10",
   "metadata": {},
   "outputs": [
    {
     "data": {
      "text/plain": [
       "1"
      ]
     },
     "execution_count": 8,
     "metadata": {},
     "output_type": "execute_result"
    }
   ],
   "source": [
    "arr[0]"
   ]
  },
  {
   "cell_type": "code",
   "execution_count": 9,
   "id": "14c81f5a",
   "metadata": {},
   "outputs": [
    {
     "data": {
      "text/plain": [
       "2"
      ]
     },
     "execution_count": 9,
     "metadata": {},
     "output_type": "execute_result"
    }
   ],
   "source": [
    "arr[1]"
   ]
  },
  {
   "cell_type": "code",
   "execution_count": 10,
   "id": "8d15b87d",
   "metadata": {},
   "outputs": [],
   "source": [
    "import sys"
   ]
  },
  {
   "cell_type": "code",
   "execution_count": 11,
   "id": "4872de5f",
   "metadata": {},
   "outputs": [
    {
     "name": "stdout",
     "output_type": "stream",
     "text": [
      "2\n",
      "48\n"
     ]
    }
   ],
   "source": [
    "print(len(arr))\n",
    "print(sys.getsizeof(arr))"
   ]
  },
  {
   "cell_type": "code",
   "execution_count": 12,
   "id": "5541ac54",
   "metadata": {},
   "outputs": [],
   "source": [
    "arr.append(3)"
   ]
  },
  {
   "cell_type": "code",
   "execution_count": 13,
   "id": "885514f7",
   "metadata": {},
   "outputs": [
    {
     "name": "stdout",
     "output_type": "stream",
     "text": [
      "3\n",
      "48\n"
     ]
    }
   ],
   "source": [
    "print(len(arr))\n",
    "print(sys.getsizeof(arr))"
   ]
  },
  {
   "cell_type": "code",
   "execution_count": 15,
   "id": "b470b577",
   "metadata": {},
   "outputs": [
    {
     "name": "stdout",
     "output_type": "stream",
     "text": [
      "4\n",
      "48\n"
     ]
    }
   ],
   "source": [
    "arr.append(4)\n",
    "print(len(arr))\n",
    "print(sys.getsizeof(arr))"
   ]
  },
  {
   "cell_type": "code",
   "execution_count": 16,
   "id": "b4036521",
   "metadata": {},
   "outputs": [
    {
     "name": "stdout",
     "output_type": "stream",
     "text": [
      "5\n",
      "48\n"
     ]
    }
   ],
   "source": [
    "arr.append(5)\n",
    "print(len(arr))\n",
    "print(sys.getsizeof(arr))"
   ]
  },
  {
   "cell_type": "code",
   "execution_count": 17,
   "id": "2f6922f9",
   "metadata": {},
   "outputs": [
    {
     "name": "stdout",
     "output_type": "stream",
     "text": [
      "6\n",
      "48\n"
     ]
    }
   ],
   "source": [
    "arr.append(6)\n",
    "print(len(arr))\n",
    "print(sys.getsizeof(arr))"
   ]
  },
  {
   "cell_type": "code",
   "execution_count": 18,
   "id": "c9581ba2",
   "metadata": {},
   "outputs": [
    {
     "name": "stdout",
     "output_type": "stream",
     "text": [
      "7\n",
      "48\n"
     ]
    }
   ],
   "source": [
    "arr.append(7)\n",
    "print(len(arr))\n",
    "print(sys.getsizeof(arr))"
   ]
  },
  {
   "cell_type": "code",
   "execution_count": 19,
   "id": "e9cc1328",
   "metadata": {},
   "outputs": [
    {
     "name": "stdout",
     "output_type": "stream",
     "text": [
      "8\n",
      "48\n"
     ]
    }
   ],
   "source": [
    "arr.append(8)\n",
    "print(len(arr))\n",
    "print(sys.getsizeof(arr))"
   ]
  },
  {
   "cell_type": "code",
   "execution_count": 20,
   "id": "551ec3fa",
   "metadata": {},
   "outputs": [
    {
     "name": "stdout",
     "output_type": "stream",
     "text": [
      "9\n",
      "48\n"
     ]
    }
   ],
   "source": [
    "arr.append(9)\n",
    "print(len(arr))\n",
    "print(sys.getsizeof(arr))"
   ]
  },
  {
   "cell_type": "code",
   "execution_count": 21,
   "id": "8a2abafd",
   "metadata": {},
   "outputs": [
    {
     "name": "stdout",
     "output_type": "stream",
     "text": [
      "10\n",
      "48\n"
     ]
    }
   ],
   "source": [
    "arr.append(10)\n",
    "print(len(arr))\n",
    "print(sys.getsizeof(arr))"
   ]
  },
  {
   "cell_type": "code",
   "execution_count": 22,
   "id": "4a7142d6",
   "metadata": {},
   "outputs": [
    {
     "name": "stdout",
     "output_type": "stream",
     "text": [
      "11\n",
      "48\n",
      "12\n",
      "48\n",
      "13\n",
      "48\n",
      "14\n",
      "48\n",
      "15\n",
      "48\n",
      "16\n",
      "48\n",
      "17\n",
      "48\n",
      "18\n",
      "48\n",
      "19\n",
      "48\n"
     ]
    }
   ],
   "source": [
    "for i in range(11,20):\n",
    "    arr.append(i)\n",
    "    print(len(arr))\n",
    "    print(sys.getsizeof(arr))"
   ]
  },
  {
   "cell_type": "code",
   "execution_count": 23,
   "id": "ab80afeb",
   "metadata": {},
   "outputs": [
    {
     "name": "stdout",
     "output_type": "stream",
     "text": [
      "20\n",
      "48\n",
      "21\n",
      "48\n",
      "22\n",
      "48\n",
      "23\n",
      "48\n",
      "24\n",
      "48\n",
      "25\n",
      "48\n",
      "26\n",
      "48\n",
      "27\n",
      "48\n",
      "28\n",
      "48\n",
      "29\n",
      "48\n",
      "30\n",
      "48\n",
      "31\n",
      "48\n",
      "32\n",
      "48\n",
      "33\n",
      "48\n",
      "34\n",
      "48\n",
      "35\n",
      "48\n",
      "36\n",
      "48\n",
      "37\n",
      "48\n",
      "38\n",
      "48\n",
      "39\n",
      "48\n",
      "40\n",
      "48\n",
      "41\n",
      "48\n",
      "42\n",
      "48\n",
      "43\n",
      "48\n",
      "44\n",
      "48\n",
      "45\n",
      "48\n",
      "46\n",
      "48\n",
      "47\n",
      "48\n",
      "48\n",
      "48\n",
      "49\n",
      "48\n"
     ]
    }
   ],
   "source": [
    "for i in range(20,50):\n",
    "    arr.append(i)\n",
    "    print(len(arr))\n",
    "    print(sys.getsizeof(arr))"
   ]
  },
  {
   "cell_type": "code",
   "execution_count": 24,
   "id": "5209730a",
   "metadata": {},
   "outputs": [
    {
     "name": "stdout",
     "output_type": "stream",
     "text": [
      "50\n",
      "48\n",
      "51\n",
      "48\n",
      "52\n",
      "48\n",
      "53\n",
      "48\n",
      "54\n",
      "48\n",
      "55\n",
      "48\n",
      "56\n",
      "48\n",
      "57\n",
      "48\n",
      "58\n",
      "48\n",
      "59\n",
      "48\n",
      "60\n",
      "48\n",
      "61\n",
      "48\n",
      "62\n",
      "48\n",
      "63\n",
      "48\n",
      "64\n",
      "48\n",
      "65\n",
      "48\n",
      "66\n",
      "48\n",
      "67\n",
      "48\n",
      "68\n",
      "48\n",
      "69\n",
      "48\n",
      "70\n",
      "48\n",
      "71\n",
      "48\n",
      "72\n",
      "48\n",
      "73\n",
      "48\n",
      "74\n",
      "48\n",
      "75\n",
      "48\n",
      "76\n",
      "48\n",
      "77\n",
      "48\n",
      "78\n",
      "48\n",
      "79\n",
      "48\n",
      "80\n",
      "48\n",
      "81\n",
      "48\n",
      "82\n",
      "48\n",
      "83\n",
      "48\n",
      "84\n",
      "48\n",
      "85\n",
      "48\n",
      "86\n",
      "48\n",
      "87\n",
      "48\n",
      "88\n",
      "48\n",
      "89\n",
      "48\n",
      "90\n",
      "48\n",
      "91\n",
      "48\n",
      "92\n",
      "48\n",
      "93\n",
      "48\n",
      "94\n",
      "48\n",
      "95\n",
      "48\n",
      "96\n",
      "48\n",
      "97\n",
      "48\n",
      "98\n",
      "48\n",
      "99\n",
      "48\n",
      "100\n",
      "48\n",
      "101\n",
      "48\n",
      "102\n",
      "48\n",
      "103\n",
      "48\n",
      "104\n",
      "48\n",
      "105\n",
      "48\n",
      "106\n",
      "48\n",
      "107\n",
      "48\n",
      "108\n",
      "48\n",
      "109\n",
      "48\n",
      "110\n",
      "48\n",
      "111\n",
      "48\n",
      "112\n",
      "48\n",
      "113\n",
      "48\n",
      "114\n",
      "48\n",
      "115\n",
      "48\n",
      "116\n",
      "48\n",
      "117\n",
      "48\n",
      "118\n",
      "48\n",
      "119\n",
      "48\n",
      "120\n",
      "48\n",
      "121\n",
      "48\n",
      "122\n",
      "48\n",
      "123\n",
      "48\n",
      "124\n",
      "48\n",
      "125\n",
      "48\n",
      "126\n",
      "48\n",
      "127\n",
      "48\n",
      "128\n",
      "48\n",
      "129\n",
      "48\n",
      "130\n",
      "48\n",
      "131\n",
      "48\n",
      "132\n",
      "48\n",
      "133\n",
      "48\n",
      "134\n",
      "48\n",
      "135\n",
      "48\n",
      "136\n",
      "48\n",
      "137\n",
      "48\n",
      "138\n",
      "48\n",
      "139\n",
      "48\n",
      "140\n",
      "48\n",
      "141\n",
      "48\n",
      "142\n",
      "48\n",
      "143\n",
      "48\n",
      "144\n",
      "48\n",
      "145\n",
      "48\n",
      "146\n",
      "48\n",
      "147\n",
      "48\n",
      "148\n",
      "48\n",
      "149\n",
      "48\n",
      "150\n",
      "48\n",
      "151\n",
      "48\n",
      "152\n",
      "48\n",
      "153\n",
      "48\n",
      "154\n",
      "48\n",
      "155\n",
      "48\n",
      "156\n",
      "48\n",
      "157\n",
      "48\n",
      "158\n",
      "48\n",
      "159\n",
      "48\n",
      "160\n",
      "48\n",
      "161\n",
      "48\n",
      "162\n",
      "48\n",
      "163\n",
      "48\n",
      "164\n",
      "48\n",
      "165\n",
      "48\n",
      "166\n",
      "48\n",
      "167\n",
      "48\n",
      "168\n",
      "48\n",
      "169\n",
      "48\n",
      "170\n",
      "48\n",
      "171\n",
      "48\n",
      "172\n",
      "48\n",
      "173\n",
      "48\n",
      "174\n",
      "48\n",
      "175\n",
      "48\n",
      "176\n",
      "48\n",
      "177\n",
      "48\n",
      "178\n",
      "48\n",
      "179\n",
      "48\n",
      "180\n",
      "48\n",
      "181\n",
      "48\n",
      "182\n",
      "48\n",
      "183\n",
      "48\n",
      "184\n",
      "48\n",
      "185\n",
      "48\n",
      "186\n",
      "48\n",
      "187\n",
      "48\n",
      "188\n",
      "48\n",
      "189\n",
      "48\n",
      "190\n",
      "48\n",
      "191\n",
      "48\n",
      "192\n",
      "48\n",
      "193\n",
      "48\n",
      "194\n",
      "48\n",
      "195\n",
      "48\n",
      "196\n",
      "48\n",
      "197\n",
      "48\n",
      "198\n",
      "48\n",
      "199\n",
      "48\n"
     ]
    }
   ],
   "source": [
    "for i in range(50,200):\n",
    "    arr.append(i)\n",
    "    print(len(arr))\n",
    "    print(sys.getsizeof(arr))"
   ]
  },
  {
   "cell_type": "code",
   "execution_count": 25,
   "id": "2dac06f8",
   "metadata": {},
   "outputs": [
    {
     "data": {
      "text/plain": [
       "199"
      ]
     },
     "execution_count": 25,
     "metadata": {},
     "output_type": "execute_result"
    }
   ],
   "source": [
    "arr.n"
   ]
  },
  {
   "cell_type": "code",
   "execution_count": 26,
   "id": "fec20431",
   "metadata": {},
   "outputs": [
    {
     "data": {
      "text/plain": [
       "256"
      ]
     },
     "execution_count": 26,
     "metadata": {},
     "output_type": "execute_result"
    }
   ],
   "source": [
    "arr.capacity"
   ]
  },
  {
   "cell_type": "code",
   "execution_count": null,
   "id": "8461ee94",
   "metadata": {},
   "outputs": [],
   "source": []
  }
 ],
 "metadata": {
  "kernelspec": {
   "display_name": "Python 3 (ipykernel)",
   "language": "python",
   "name": "python3"
  },
  "language_info": {
   "codemirror_mode": {
    "name": "ipython",
    "version": 3
   },
   "file_extension": ".py",
   "mimetype": "text/x-python",
   "name": "python",
   "nbconvert_exporter": "python",
   "pygments_lexer": "ipython3",
   "version": "3.9.7"
  }
 },
 "nbformat": 4,
 "nbformat_minor": 5
}
