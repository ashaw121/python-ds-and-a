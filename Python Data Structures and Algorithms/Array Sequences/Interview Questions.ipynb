{
 "cells": [
  {
   "cell_type": "markdown",
   "id": "dacac9cb",
   "metadata": {},
   "source": [
    "# Anagram Interview Question"
   ]
  },
  {
   "cell_type": "code",
   "execution_count": 5,
   "id": "d77cecd5",
   "metadata": {},
   "outputs": [],
   "source": [
    "def anagram(s1, s2):\n",
    "    s1 = s1.replace(' ','').lower()\n",
    "    s2 = s2.replace(' ','').lower()\n",
    "    \n",
    "    return sorted(s1) == sorted(s2)\n",
    "    "
   ]
  },
  {
   "cell_type": "code",
   "execution_count": 6,
   "id": "588430e5",
   "metadata": {},
   "outputs": [
    {
     "data": {
      "text/plain": [
       "True"
      ]
     },
     "execution_count": 6,
     "metadata": {},
     "output_type": "execute_result"
    }
   ],
   "source": [
    "anagram('dog', 'god')"
   ]
  },
  {
   "cell_type": "code",
   "execution_count": 7,
   "id": "198deac9",
   "metadata": {},
   "outputs": [
    {
     "data": {
      "text/plain": [
       "True"
      ]
     },
     "execution_count": 7,
     "metadata": {},
     "output_type": "execute_result"
    }
   ],
   "source": [
    "anagram('clint eastwood','old west action')"
   ]
  },
  {
   "cell_type": "code",
   "execution_count": 8,
   "id": "43c83b9c",
   "metadata": {},
   "outputs": [
    {
     "name": "stdout",
     "output_type": "stream",
     "text": [
      "ALL TEST CASES PASSED\n"
     ]
    }
   ],
   "source": [
    "from nose.tools import assert_equal\n",
    "\n",
    "class AnagramTest(object):\n",
    "    \n",
    "    def test(self,sol):\n",
    "        assert_equal(sol('go go go','gggooo'),True)\n",
    "        assert_equal(sol('abc','cba'),True)\n",
    "        assert_equal(sol('hi man','hi     man'),True)\n",
    "        assert_equal(sol('aabbcc','aabbc'),False)\n",
    "        assert_equal(sol('123','1 2'),False)\n",
    "        print(\"ALL TEST CASES PASSED\")\n",
    "\n",
    "# Run Tests\n",
    "t = AnagramTest()\n",
    "t.test(anagram)"
   ]
  },
  {
   "cell_type": "markdown",
   "id": "6416eea2",
   "metadata": {},
   "source": [
    "# Solution from Jose"
   ]
  },
  {
   "cell_type": "code",
   "execution_count": 18,
   "id": "7f95291d",
   "metadata": {},
   "outputs": [],
   "source": [
    "def anagram2(s1, s2):\n",
    "    s1 = s1.replace(' ','').lower()\n",
    "    s2 = s2.replace(' ','').lower()\n",
    "    \n",
    "    return sorted(s1) == sorted(s2)"
   ]
  },
  {
   "cell_type": "code",
   "execution_count": 19,
   "id": "0d8f4bb0",
   "metadata": {},
   "outputs": [
    {
     "name": "stdout",
     "output_type": "stream",
     "text": [
      "ALL TEST CASES PASSED\n"
     ]
    }
   ],
   "source": [
    "from nose.tools import assert_equal\n",
    "\n",
    "class AnagramTest(object):\n",
    "    \n",
    "    def test(self,sol):\n",
    "        assert_equal(sol('go go go','gggooo'),True)\n",
    "        assert_equal(sol('abc','cba'),True)\n",
    "        assert_equal(sol('hi man','hi     man'),True)\n",
    "        assert_equal(sol('aabbcc','aabbc'),False)\n",
    "        assert_equal(sol('123','1 2'),False)\n",
    "        print(\"ALL TEST CASES PASSED\")\n",
    "\n",
    "# Run Tests\n",
    "t = AnagramTest()\n",
    "t.test(anagram2)"
   ]
  },
  {
   "cell_type": "code",
   "execution_count": null,
   "id": "af7a47b8",
   "metadata": {},
   "outputs": [],
   "source": []
  },
  {
   "cell_type": "code",
   "execution_count": null,
   "id": "9909d265",
   "metadata": {},
   "outputs": [],
   "source": []
  },
  {
   "cell_type": "code",
   "execution_count": null,
   "id": "066522fe",
   "metadata": {},
   "outputs": [],
   "source": []
  },
  {
   "cell_type": "markdown",
   "id": "dde11f1a",
   "metadata": {},
   "source": [
    "# Array Pair Sum\n",
    "\n",
    "## Problem\n",
    "\n",
    "Given an integer array, output all the unique pairs that sum up to a specific value k.\n",
    "\n",
    "So the input:\n",
    "\n",
    "pair_sum([1,3,2,2],4)\n",
    "\n",
    "would return 2 pairs:\n",
    "\n",
    " (1,3)\n",
    " (2,2)\n",
    " \n",
    " NOTE: FOR TESTING PURPOSES CHANGE YOUR FUNCTION SO IT OUTPUTS THE NUMBER OF PAIRS\n",
    "\n"
   ]
  },
  {
   "cell_type": "code",
   "execution_count": 11,
   "id": "45723bb6",
   "metadata": {},
   "outputs": [],
   "source": [
    "def pair_sum(arr, k):\n",
    "\n",
    "    if len(arr) < 2:\n",
    "        return\n",
    "    \n",
    "    seen = set()\n",
    "    output = set()\n",
    "    \n",
    "    for num in arr:\n",
    "        \n",
    "        target = k - num\n",
    "        \n",
    "        if target not in seen:\n",
    "            seen.add(num)\n",
    "        else:\n",
    "            output.add((min(num, target), max(num, target)))\n",
    "    \n",
    "    return len(output)"
   ]
  },
  {
   "cell_type": "code",
   "execution_count": 12,
   "id": "0ffaa9b9",
   "metadata": {},
   "outputs": [
    {
     "data": {
      "text/plain": [
       "2"
      ]
     },
     "execution_count": 12,
     "metadata": {},
     "output_type": "execute_result"
    }
   ],
   "source": [
    "pair_sum([1,3,2,2],4)"
   ]
  },
  {
   "cell_type": "code",
   "execution_count": 13,
   "id": "e8ef963f",
   "metadata": {},
   "outputs": [
    {
     "name": "stdout",
     "output_type": "stream",
     "text": [
      "ALL TEST CASES PASSED\n"
     ]
    }
   ],
   "source": [
    "from nose.tools import assert_equal\n",
    "\n",
    "class TestPair(object):\n",
    "    \n",
    "    def test(self,sol):\n",
    "        assert_equal(sol([1,9,2,8,3,7,4,6,5,5,13,14,11,13,-1],10),6)\n",
    "        assert_equal(sol([1,2,3,1],3),1)\n",
    "        assert_equal(sol([1,3,2,2],4),2)\n",
    "        print('ALL TEST CASES PASSED')\n",
    "        \n",
    "#Run tests\n",
    "t = TestPair()\n",
    "t.test(pair_sum)"
   ]
  },
  {
   "cell_type": "markdown",
   "id": "11827852",
   "metadata": {},
   "source": [
    "# Solution from Jose"
   ]
  },
  {
   "cell_type": "code",
   "execution_count": 14,
   "id": "34b8c298",
   "metadata": {},
   "outputs": [],
   "source": [
    "def pair_sum(arr, k):\n",
    "    \n",
    "    if len(arr) < 2:\n",
    "        return\n",
    "    \n",
    "    # sets for tracking\n",
    "    seen = set()\n",
    "    output = set()\n",
    "    \n",
    "    for num in arr:\n",
    "        \n",
    "        # find target difference\n",
    "        target = k - num\n",
    "        \n",
    "        # Add it to set if target hasn't been seen\n",
    "        if target not in seen:\n",
    "            seen.add(num)\n",
    "            \n",
    "        else:\n",
    "            # add a tuple with the corresponding pair\n",
    "            output.add( (min(num,target), max(num,target)) )\n",
    "            \n",
    "    return len(output)"
   ]
  },
  {
   "cell_type": "code",
   "execution_count": 15,
   "id": "99cc6cc3",
   "metadata": {},
   "outputs": [
    {
     "data": {
      "text/plain": [
       "2"
      ]
     },
     "execution_count": 15,
     "metadata": {},
     "output_type": "execute_result"
    }
   ],
   "source": [
    "pair_sum([1,3,2,2],4)"
   ]
  },
  {
   "cell_type": "code",
   "execution_count": null,
   "id": "ef6d8f5a",
   "metadata": {},
   "outputs": [],
   "source": []
  },
  {
   "cell_type": "code",
   "execution_count": null,
   "id": "5ca5443a",
   "metadata": {},
   "outputs": [],
   "source": []
  },
  {
   "cell_type": "code",
   "execution_count": null,
   "id": "d174505c",
   "metadata": {},
   "outputs": [],
   "source": []
  },
  {
   "cell_type": "markdown",
   "id": "8dfc5c4a",
   "metadata": {},
   "source": [
    "# Find the Missing Element\n",
    "\n",
    "## Problem\n",
    "\n",
    "Consider an array of non-negative integers. A second array is formed by shuffling the elements of the first array and deleting a random element. Given these two arrays, find which element is missing in the second array.\n",
    "\n",
    "Here is an example input, the first array is shuffled and the number 5 is removed to construct the second array.\n",
    "\n",
    "Input:\n",
    "\n",
    "finder([1,2,3,4,5,6,7],[3,7,2,1,4,6])\n",
    "\n",
    "Output:\n",
    "\n",
    "5 is the missing number"
   ]
  },
  {
   "cell_type": "code",
   "execution_count": 98,
   "id": "135e6936",
   "metadata": {},
   "outputs": [],
   "source": [
    "def finder(arr1,arr2):\n",
    "    arr1.sort()\n",
    "    arr2.sort()\n",
    "    \n",
    "    for i in range(len(arr1)):\n",
    "        if arr1[i] != arr2[i]:\n",
    "            return arr1[i]"
   ]
  },
  {
   "cell_type": "code",
   "execution_count": 99,
   "id": "94725656",
   "metadata": {},
   "outputs": [
    {
     "data": {
      "text/plain": [
       "5"
      ]
     },
     "execution_count": 99,
     "metadata": {},
     "output_type": "execute_result"
    }
   ],
   "source": [
    "arr1 = [1,2,3,4,5,6,7]\n",
    "arr2 = [3,7,2,1,4,6]\n",
    "finder(arr1,arr2)"
   ]
  },
  {
   "cell_type": "code",
   "execution_count": 100,
   "id": "a96e7285",
   "metadata": {},
   "outputs": [
    {
     "data": {
      "text/plain": [
       "5"
      ]
     },
     "execution_count": 100,
     "metadata": {},
     "output_type": "execute_result"
    }
   ],
   "source": [
    "arr1 = [5,5,7,7]\n",
    "arr2 = [5,7,7]\n",
    "\n",
    "finder(arr1,arr2)"
   ]
  },
  {
   "cell_type": "code",
   "execution_count": 101,
   "id": "e30f0f76",
   "metadata": {},
   "outputs": [
    {
     "name": "stdout",
     "output_type": "stream",
     "text": [
      "ALL TEST CASES PASSED\n"
     ]
    }
   ],
   "source": [
    "from nose.tools import assert_equal\n",
    "\n",
    "class TestFinder(object):\n",
    "    \n",
    "    def test(self,sol):\n",
    "        assert_equal(sol([5,5,7,7],[5,7,7]),5)\n",
    "        assert_equal(sol([1,2,3,4,5,6,7],[3,7,2,1,4,6]),5)\n",
    "        assert_equal(sol([9,8,7,6,5,4,3,2,1],[9,8,7,5,4,3,2,1]),6)\n",
    "        print('ALL TEST CASES PASSED')\n",
    "\n",
    "# Run test\n",
    "t = TestFinder()\n",
    "t.test(finder)"
   ]
  },
  {
   "cell_type": "code",
   "execution_count": null,
   "id": "473c6d84",
   "metadata": {},
   "outputs": [],
   "source": []
  },
  {
   "cell_type": "code",
   "execution_count": null,
   "id": "940995fc",
   "metadata": {},
   "outputs": [],
   "source": []
  },
  {
   "cell_type": "code",
   "execution_count": null,
   "id": "879e8507",
   "metadata": {},
   "outputs": [],
   "source": []
  },
  {
   "cell_type": "code",
   "execution_count": null,
   "id": "007f8991",
   "metadata": {},
   "outputs": [],
   "source": []
  },
  {
   "cell_type": "markdown",
   "id": "de98d1f9",
   "metadata": {},
   "source": [
    "# Largest Continuous Sum\n",
    "\n",
    "## Problem\n",
    "\n",
    "Given an array of integers (positive and negative) find the largest continuous sum."
   ]
  },
  {
   "cell_type": "code",
   "execution_count": 22,
   "id": "4eb82150",
   "metadata": {},
   "outputs": [],
   "source": [
    "def large_cont_sum(arr):    \n",
    "    if len(arr) == 0:\n",
    "        return 0\n",
    "    \n",
    "    max_sum = cur_sum = arr[0]\n",
    "    \n",
    "    # Add each number to current sum and check the current sum against the max sum\n",
    "    for num in arr[1:]:\n",
    "        # set starting point to num if current sum becomes negative\n",
    "        cur_sum = max(cur_sum + num, num)\n",
    "        \n",
    "        max_sum = max(cur_sum, max_sum)\n",
    "    \n",
    "    return max_sum"
   ]
  },
  {
   "cell_type": "code",
   "execution_count": 23,
   "id": "170965ee",
   "metadata": {},
   "outputs": [
    {
     "data": {
      "text/plain": [
       "29"
      ]
     },
     "execution_count": 23,
     "metadata": {},
     "output_type": "execute_result"
    }
   ],
   "source": [
    "large_cont_sum([1,2,-1,3,4,10,10,-10,-1])"
   ]
  },
  {
   "cell_type": "code",
   "execution_count": 24,
   "id": "ae1d9bdc",
   "metadata": {},
   "outputs": [
    {
     "name": "stdout",
     "output_type": "stream",
     "text": [
      "ALL TEST CASES PASSED\n"
     ]
    }
   ],
   "source": [
    "from nose.tools import assert_equal\n",
    "\n",
    "class LargeContTest(object):\n",
    "    def test(self,sol):\n",
    "        assert_equal(sol([1,2,-1,3,4,-1]),9)\n",
    "        assert_equal(sol([1,2,-1,3,4,10,10,-10,-1]),29)\n",
    "        assert_equal(sol([-1,1]),1)\n",
    "        print('ALL TEST CASES PASSED')\n",
    "        \n",
    "#Run Test\n",
    "t = LargeContTest()\n",
    "t.test(large_cont_sum)"
   ]
  },
  {
   "cell_type": "code",
   "execution_count": null,
   "id": "a9a56ddb",
   "metadata": {},
   "outputs": [],
   "source": []
  },
  {
   "cell_type": "code",
   "execution_count": null,
   "id": "47bb5562",
   "metadata": {},
   "outputs": [],
   "source": []
  },
  {
   "cell_type": "code",
   "execution_count": null,
   "id": "d26a1649",
   "metadata": {},
   "outputs": [],
   "source": []
  },
  {
   "cell_type": "code",
   "execution_count": null,
   "id": "438f6217",
   "metadata": {},
   "outputs": [],
   "source": []
  },
  {
   "cell_type": "markdown",
   "id": "73f0a34f",
   "metadata": {},
   "source": [
    "# Sentence Reversal\n",
    "\n",
    "## Problem\n",
    "\n",
    "Given a string of words, reverse all the words. For example:\n",
    "\n",
    "Given:\n",
    "\n",
    "'This is the best'\n",
    "\n",
    "Return:\n",
    "\n",
    "'best the is This'\n",
    "\n",
    "As part of this exercise you should remove all leading and trailing whitespace. So that inputs such as:\n",
    "\n",
    "'  space here'  and 'space here      '\n",
    "\n",
    "both become:\n",
    "\n",
    "'here space'"
   ]
  },
  {
   "cell_type": "code",
   "execution_count": 49,
   "id": "7ed80ad0",
   "metadata": {},
   "outputs": [],
   "source": [
    "def rev_word(s):\n",
    "    arr = map(lambda x: x.replace(' ',''), s.split(' '))\n",
    "    arr = list(arr)\n",
    "    rev_arr = []\n",
    "    \n",
    "    while '' in arr:\n",
    "        arr.remove('')\n",
    "    \n",
    "    for i in range(len(arr)):\n",
    "        rev_arr.append(arr.pop())\n",
    "    \n",
    "    return ' '.join(rev_arr)"
   ]
  },
  {
   "cell_type": "code",
   "execution_count": 50,
   "id": "e14970a4",
   "metadata": {},
   "outputs": [
    {
     "data": {
      "text/plain": [
       "'go? to ready you are John, Hi'"
      ]
     },
     "execution_count": 50,
     "metadata": {},
     "output_type": "execute_result"
    }
   ],
   "source": [
    "rev_word('Hi John,   are you ready to go?')"
   ]
  },
  {
   "cell_type": "code",
   "execution_count": 51,
   "id": "ed56de31",
   "metadata": {},
   "outputs": [
    {
     "name": "stdout",
     "output_type": "stream",
     "text": [
      "ALL TEST CASES PASSED\n"
     ]
    }
   ],
   "source": [
    "from nose.tools import assert_equal\n",
    "\n",
    "class ReversalTest(object):\n",
    "    \n",
    "    def test(self,sol):\n",
    "        assert_equal(sol('    space before'),'before space')\n",
    "        assert_equal(sol('space after     '),'after space')\n",
    "        assert_equal(sol('   Hello John    how are you   '),'you are how John Hello')\n",
    "        assert_equal(sol('1'),'1')\n",
    "        print(\"ALL TEST CASES PASSED\")\n",
    "        \n",
    "# Run and test\n",
    "t = ReversalTest()\n",
    "t.test(rev_word)"
   ]
  },
  {
   "cell_type": "code",
   "execution_count": null,
   "id": "19c035c2",
   "metadata": {},
   "outputs": [],
   "source": []
  },
  {
   "cell_type": "code",
   "execution_count": null,
   "id": "ac7292e0",
   "metadata": {},
   "outputs": [],
   "source": []
  },
  {
   "cell_type": "code",
   "execution_count": null,
   "id": "a77235f4",
   "metadata": {},
   "outputs": [],
   "source": []
  },
  {
   "cell_type": "code",
   "execution_count": null,
   "id": "e4d6dff4",
   "metadata": {},
   "outputs": [],
   "source": []
  },
  {
   "cell_type": "code",
   "execution_count": null,
   "id": "8d59b105",
   "metadata": {},
   "outputs": [],
   "source": []
  },
  {
   "cell_type": "markdown",
   "id": "787c71e0",
   "metadata": {},
   "source": [
    "# String Compression\n",
    "\n",
    "## Problem\n",
    "\n",
    "Given a string in the form 'AAAABBBBCCCCCDDEEEE' compress it to become 'A4B4C5D2E4'. For this problem, you can falsely \"compress\" strings of single or double letters. For instance, it is okay for 'AAB' to return 'A2B1' even though this technically takes more space.\n",
    "\n",
    "The function should also be case sensitive, so that a string 'AAAaaa' returns 'A3a3'."
   ]
  },
  {
   "cell_type": "code",
   "execution_count": 66,
   "id": "268d051b",
   "metadata": {},
   "outputs": [],
   "source": [
    "def compress(s):\n",
    "    if s == '':\n",
    "        return ''\n",
    "    \n",
    "    current_letter = comp_string = s[0]\n",
    "    count = 1\n",
    "    \n",
    "    for letter in s[1:]:\n",
    "        if letter == current_letter:\n",
    "            count += 1\n",
    "        else:\n",
    "            comp_string += str(count)\n",
    "            comp_string += letter\n",
    "            current_letter = letter\n",
    "            count = 1\n",
    "    \n",
    "    comp_string += str(count)\n",
    "    \n",
    "    return comp_string"
   ]
  },
  {
   "cell_type": "code",
   "execution_count": 67,
   "id": "bc64fc32",
   "metadata": {},
   "outputs": [
    {
     "data": {
      "text/plain": [
       "'A5B4C4'"
      ]
     },
     "execution_count": 67,
     "metadata": {},
     "output_type": "execute_result"
    }
   ],
   "source": [
    "compress('AAAAABBBBCCCC')"
   ]
  },
  {
   "cell_type": "code",
   "execution_count": 68,
   "id": "9f55f83b",
   "metadata": {},
   "outputs": [
    {
     "name": "stdout",
     "output_type": "stream",
     "text": [
      "ALL TEST CASES PASSED\n"
     ]
    }
   ],
   "source": [
    "from nose.tools import assert_equal\n",
    "\n",
    "class TestCompress(object):\n",
    "\n",
    "    def test(self, sol):\n",
    "        assert_equal(sol(''), '')\n",
    "        assert_equal(sol('AABBCC'), 'A2B2C2')\n",
    "        assert_equal(sol('AAABCCDDDDD'), 'A3B1C2D5')\n",
    "        print('ALL TEST CASES PASSED')\n",
    "\n",
    "# Run Tests\n",
    "t = TestCompress()\n",
    "t.test(compress)"
   ]
  },
  {
   "cell_type": "markdown",
   "id": "e249d146",
   "metadata": {},
   "source": [
    "# Solution from Jose\n",
    "\n",
    "He chose a very similar method with some slight differences, I actually like my way a little better"
   ]
  },
  {
   "cell_type": "code",
   "execution_count": null,
   "id": "25886c9b",
   "metadata": {},
   "outputs": [],
   "source": [
    "def compress(s):\n",
    "    \"\"\"\n",
    "    This solution compresses without checking. Known as the RunLength Compression algorithm.\n",
    "    \"\"\"\n",
    "    \n",
    "    # Begin Run as empty string\n",
    "    r = \"\"\n",
    "    l = len(s)\n",
    "    \n",
    "    # Check for length 0\n",
    "    if l == 0:\n",
    "        return \"\"\n",
    "    \n",
    "    # Check for length 1\n",
    "    if l == 1:\n",
    "        return s + \"1\"\n",
    "    \n",
    "    #Intialize Values\n",
    "    last = s[0]\n",
    "    cnt = 1\n",
    "    i = 1\n",
    "    \n",
    "    while i < l:\n",
    "        \n",
    "        # Check to see if it is the same letter\n",
    "        if s[i] == s[i - 1]: \n",
    "            # Add a count if same as previous\n",
    "            cnt += 1\n",
    "        else:\n",
    "            # Otherwise store the previous data\n",
    "            r = r + s[i - 1] + str(cnt)\n",
    "            cnt = 1\n",
    "            \n",
    "        # Add to index count to terminate while loop\n",
    "        i += 1\n",
    "    \n",
    "    # Put everything back into run\n",
    "    r = r + s[i - 1] + str(cnt)\n",
    "    \n",
    "    return r"
   ]
  },
  {
   "cell_type": "code",
   "execution_count": null,
   "id": "95fa998d",
   "metadata": {},
   "outputs": [],
   "source": []
  },
  {
   "cell_type": "code",
   "execution_count": null,
   "id": "406b6b99",
   "metadata": {},
   "outputs": [],
   "source": []
  },
  {
   "cell_type": "code",
   "execution_count": null,
   "id": "b10ecf21",
   "metadata": {},
   "outputs": [],
   "source": []
  },
  {
   "cell_type": "code",
   "execution_count": null,
   "id": "a18b5e2c",
   "metadata": {},
   "outputs": [],
   "source": []
  },
  {
   "cell_type": "markdown",
   "id": "cf4cf947",
   "metadata": {},
   "source": [
    "# Unique Characters in a String\n",
    "\n",
    "## Problem\n",
    "\n",
    "Given a string,determine if it is compreised of all unique characters. For example, the string 'abcde' has all unique characters and should return True. The string 'aabcde' contains duplicate characters and should return false."
   ]
  },
  {
   "cell_type": "code",
   "execution_count": 31,
   "id": "8ba12282",
   "metadata": {},
   "outputs": [],
   "source": [
    "def uni_char(s):\n",
    "    arr = list(s)\n",
    "    unique = set()\n",
    "    \n",
    "    dummy = list(map(lambda x: unique.add(x), arr))\n",
    "    \n",
    "    return len(arr) == len(unique)"
   ]
  },
  {
   "cell_type": "code",
   "execution_count": 32,
   "id": "76485540",
   "metadata": {},
   "outputs": [
    {
     "data": {
      "text/plain": [
       "True"
      ]
     },
     "execution_count": 32,
     "metadata": {},
     "output_type": "execute_result"
    }
   ],
   "source": [
    "uni_char('abcde')"
   ]
  },
  {
   "cell_type": "code",
   "execution_count": 33,
   "id": "aab9a0ae",
   "metadata": {},
   "outputs": [
    {
     "data": {
      "text/plain": [
       "False"
      ]
     },
     "execution_count": 33,
     "metadata": {},
     "output_type": "execute_result"
    }
   ],
   "source": [
    "uni_char('aabcde')"
   ]
  },
  {
   "cell_type": "code",
   "execution_count": 34,
   "id": "39b9f6ae",
   "metadata": {},
   "outputs": [
    {
     "name": "stdout",
     "output_type": "stream",
     "text": [
      "ALL TEST CASES PASSED\n"
     ]
    }
   ],
   "source": [
    "from nose.tools import assert_equal\n",
    "\n",
    "\n",
    "class TestUnique(object):\n",
    "\n",
    "    def test(self, sol):\n",
    "        assert_equal(sol(''), True)\n",
    "        assert_equal(sol('goo'), False)\n",
    "        assert_equal(sol('abcdefg'), True)\n",
    "        print('ALL TEST CASES PASSED')\n",
    "        \n",
    "# Run Tests\n",
    "t = TestUnique()\n",
    "t.test(uni_char)"
   ]
  },
  {
   "cell_type": "markdown",
   "id": "e9fccbbb",
   "metadata": {},
   "source": [
    "# Solution from Jose "
   ]
  },
  {
   "cell_type": "code",
   "execution_count": 35,
   "id": "06c1c47c",
   "metadata": {},
   "outputs": [],
   "source": [
    "def uni_char(s):\n",
    "    return len(set(s) == len(s))"
   ]
  },
  {
   "cell_type": "code",
   "execution_count": 36,
   "id": "ab1db3d8",
   "metadata": {},
   "outputs": [],
   "source": [
    "def uni_char2(s):\n",
    "    chars = set()\n",
    "    for let in s:\n",
    "        # Check if in set\n",
    "        if let in chars:\n",
    "            return False\n",
    "        else:\n",
    "            #Add it to the set\n",
    "            chars.add(let)\n",
    "    return True"
   ]
  },
  {
   "cell_type": "code",
   "execution_count": null,
   "id": "1ae2706b",
   "metadata": {},
   "outputs": [],
   "source": []
  }
 ],
 "metadata": {
  "kernelspec": {
   "display_name": "Python 3 (ipykernel)",
   "language": "python",
   "name": "python3"
  },
  "language_info": {
   "codemirror_mode": {
    "name": "ipython",
    "version": 3
   },
   "file_extension": ".py",
   "mimetype": "text/x-python",
   "name": "python",
   "nbconvert_exporter": "python",
   "pygments_lexer": "ipython3",
   "version": "3.9.7"
  }
 },
 "nbformat": 4,
 "nbformat_minor": 5
}
